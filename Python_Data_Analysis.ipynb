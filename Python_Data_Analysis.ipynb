{
 "cells": [
  {
   "cell_type": "markdown",
   "metadata": {
    "papermill": {
     "duration": 0.005281,
     "end_time": "2022-11-20T23:10:16.973872",
     "exception": false,
     "start_time": "2022-11-20T23:10:16.968591",
     "status": "completed"
    },
    "tags": []
   },
   "source": [
    "## Library Support"
   ]
  },
  {
   "cell_type": "code",
   "execution_count": 1,
   "metadata": {
    "execution": {
     "iopub.execute_input": "2022-11-20T23:10:16.985395Z",
     "iopub.status.busy": "2022-11-20T23:10:16.984264Z",
     "iopub.status.idle": "2022-11-20T23:10:18.738394Z",
     "shell.execute_reply": "2022-11-20T23:10:18.737153Z"
    },
    "papermill": {
     "duration": 1.763025,
     "end_time": "2022-11-20T23:10:18.741524",
     "exception": false,
     "start_time": "2022-11-20T23:10:16.978499",
     "status": "completed"
    },
    "tags": []
   },
   "outputs": [
    {
     "name": "stderr",
     "output_type": "stream",
     "text": [
      "[nltk_data] Downloading package punkt to\n",
      "[nltk_data]     C:\\Users\\subhi\\AppData\\Roaming\\nltk_data...\n",
      "[nltk_data]   Package punkt is already up-to-date!\n"
     ]
    },
    {
     "data": {
      "text/plain": [
       "True"
      ]
     },
     "execution_count": 1,
     "metadata": {},
     "output_type": "execute_result"
    }
   ],
   "source": [
    "import os\n",
    "import datetime\n",
    "import pandas as pd\n",
    "import numpy as np\n",
    "import matplotlib.pyplot as plt\n",
    "import nltk\n",
    "from nltk.tokenize import word_tokenize, MWETokenizer\n",
    "\n",
    "# got tired of warnings 🙃\n",
    "import warnings\n",
    "warnings.filterwarnings('ignore')\n",
    "\n",
    "# Only need to run once\n",
    "nltk.download('punkt')"
   ]
  },
  {
   "cell_type": "markdown",
   "metadata": {
    "papermill": {
     "duration": 0.004221,
     "end_time": "2022-11-20T23:10:18.750645",
     "exception": false,
     "start_time": "2022-11-20T23:10:18.746424",
     "status": "completed"
    },
    "tags": []
   },
   "source": [
    "## Import Data from CSV"
   ]
  },
  {
   "cell_type": "code",
   "execution_count": 2,
   "metadata": {},
   "outputs": [],
   "source": [
    "data_url = pd.read_csv('C:/Users/subhi/Desktop/30daychallenge/archive/gsearch_jobs.csv')\n",
    "data_url.date_time = pd.to_datetime(data_url.date_time) # convert to date time\n",
    "jobs_all = data_url.drop(labels=['Unnamed: 0', 'index'], axis=1, errors='ignore')"
   ]
  },
  {
   "cell_type": "code",
   "execution_count": 3,
   "metadata": {},
   "outputs": [
    {
     "data": {
      "text/html": [
       "<div>\n",
       "<style scoped>\n",
       "    .dataframe tbody tr th:only-of-type {\n",
       "        vertical-align: middle;\n",
       "    }\n",
       "\n",
       "    .dataframe tbody tr th {\n",
       "        vertical-align: top;\n",
       "    }\n",
       "\n",
       "    .dataframe thead th {\n",
       "        text-align: right;\n",
       "    }\n",
       "</style>\n",
       "<table border=\"1\" class=\"dataframe\">\n",
       "  <thead>\n",
       "    <tr style=\"text-align: right;\">\n",
       "      <th></th>\n",
       "      <th>title</th>\n",
       "      <th>company_name</th>\n",
       "      <th>location</th>\n",
       "      <th>via</th>\n",
       "      <th>description</th>\n",
       "      <th>extensions</th>\n",
       "      <th>job_id</th>\n",
       "      <th>thumbnail</th>\n",
       "      <th>posted_at</th>\n",
       "      <th>schedule_type</th>\n",
       "      <th>...</th>\n",
       "      <th>commute_time</th>\n",
       "      <th>salary_pay</th>\n",
       "      <th>salary_rate</th>\n",
       "      <th>salary_avg</th>\n",
       "      <th>salary_min</th>\n",
       "      <th>salary_max</th>\n",
       "      <th>salary_hourly</th>\n",
       "      <th>salary_yearly</th>\n",
       "      <th>salary_standardized</th>\n",
       "      <th>description_tokens</th>\n",
       "    </tr>\n",
       "  </thead>\n",
       "  <tbody>\n",
       "    <tr>\n",
       "      <td>0</td>\n",
       "      <td>Data Analyst</td>\n",
       "      <td>Meta</td>\n",
       "      <td>Anywhere</td>\n",
       "      <td>via LinkedIn</td>\n",
       "      <td>In the intersection of compliance and analytic...</td>\n",
       "      <td>['15 hours ago', '101K–143K a year', 'Work fro...</td>\n",
       "      <td>eyJqb2JfdGl0bGUiOiJEYXRhIEFuYWx5c3QiLCJodGlkb2...</td>\n",
       "      <td>https://encrypted-tbn0.gstatic.com/images?q=tb...</td>\n",
       "      <td>15 hours ago</td>\n",
       "      <td>Full-time</td>\n",
       "      <td>...</td>\n",
       "      <td>NaN</td>\n",
       "      <td>101K–143K</td>\n",
       "      <td>a year</td>\n",
       "      <td>122000.0</td>\n",
       "      <td>101000.0</td>\n",
       "      <td>143000.0</td>\n",
       "      <td>NaN</td>\n",
       "      <td>122000.0</td>\n",
       "      <td>122000.0</td>\n",
       "      <td>['tableau', 'python', 'sql', 'r']</td>\n",
       "    </tr>\n",
       "    <tr>\n",
       "      <td>1</td>\n",
       "      <td>Data Analyst</td>\n",
       "      <td>ATC</td>\n",
       "      <td>United States</td>\n",
       "      <td>via LinkedIn</td>\n",
       "      <td>Job Title: Entry Level Business Analyst / Prod...</td>\n",
       "      <td>['12 hours ago', 'Full-time', 'Health insurance']</td>\n",
       "      <td>eyJqb2JfdGl0bGUiOiJEYXRhIEFuYWx5c3QiLCJodGlkb2...</td>\n",
       "      <td>https://encrypted-tbn0.gstatic.com/images?q=tb...</td>\n",
       "      <td>12 hours ago</td>\n",
       "      <td>Full-time</td>\n",
       "      <td>...</td>\n",
       "      <td>NaN</td>\n",
       "      <td>NaN</td>\n",
       "      <td>NaN</td>\n",
       "      <td>NaN</td>\n",
       "      <td>NaN</td>\n",
       "      <td>NaN</td>\n",
       "      <td>NaN</td>\n",
       "      <td>NaN</td>\n",
       "      <td>NaN</td>\n",
       "      <td>[]</td>\n",
       "    </tr>\n",
       "    <tr>\n",
       "      <td>2</td>\n",
       "      <td>Aeronautical Data Analyst</td>\n",
       "      <td>Garmin International, Inc.</td>\n",
       "      <td>Olathe, KS</td>\n",
       "      <td>via Indeed</td>\n",
       "      <td>Overview:\\n\\nWe are seeking a full-time...\\nAe...</td>\n",
       "      <td>['18 hours ago', 'Full-time']</td>\n",
       "      <td>eyJqb2JfdGl0bGUiOiJBZXJvbmF1dGljYWwgRGF0YSBBbm...</td>\n",
       "      <td>NaN</td>\n",
       "      <td>18 hours ago</td>\n",
       "      <td>Full-time</td>\n",
       "      <td>...</td>\n",
       "      <td>NaN</td>\n",
       "      <td>NaN</td>\n",
       "      <td>NaN</td>\n",
       "      <td>NaN</td>\n",
       "      <td>NaN</td>\n",
       "      <td>NaN</td>\n",
       "      <td>NaN</td>\n",
       "      <td>NaN</td>\n",
       "      <td>NaN</td>\n",
       "      <td>['sql']</td>\n",
       "    </tr>\n",
       "    <tr>\n",
       "      <td>3</td>\n",
       "      <td>Data Analyst - Consumer Goods - Contract to Hire</td>\n",
       "      <td>Upwork</td>\n",
       "      <td>Anywhere</td>\n",
       "      <td>via Upwork</td>\n",
       "      <td>Enthusiastic Data Analyst for processing sales...</td>\n",
       "      <td>['12 hours ago', '15–25 an hour', 'Work from h...</td>\n",
       "      <td>eyJqb2JfdGl0bGUiOiJEYXRhIEFuYWx5c3QgLSBDb25zdW...</td>\n",
       "      <td>NaN</td>\n",
       "      <td>12 hours ago</td>\n",
       "      <td>Contractor</td>\n",
       "      <td>...</td>\n",
       "      <td>NaN</td>\n",
       "      <td>15–25</td>\n",
       "      <td>an hour</td>\n",
       "      <td>20.0</td>\n",
       "      <td>15.0</td>\n",
       "      <td>25.0</td>\n",
       "      <td>20.0</td>\n",
       "      <td>NaN</td>\n",
       "      <td>41600.0</td>\n",
       "      <td>['power_bi', 'excel', 'powerpoint']</td>\n",
       "    </tr>\n",
       "    <tr>\n",
       "      <td>4</td>\n",
       "      <td>Data Analyst | Workforce Management</td>\n",
       "      <td>Krispy Kreme</td>\n",
       "      <td>United States</td>\n",
       "      <td>via LinkedIn</td>\n",
       "      <td>Overview of Position\\n\\nThis position will be ...</td>\n",
       "      <td>['7 hours ago', '90K–110K a year', 'Contractor']</td>\n",
       "      <td>eyJqb2JfdGl0bGUiOiJEYXRhIEFuYWx5c3QgfCBXb3JrZm...</td>\n",
       "      <td>https://encrypted-tbn0.gstatic.com/images?q=tb...</td>\n",
       "      <td>7 hours ago</td>\n",
       "      <td>Contractor</td>\n",
       "      <td>...</td>\n",
       "      <td>NaN</td>\n",
       "      <td>90K–110K</td>\n",
       "      <td>a year</td>\n",
       "      <td>100000.0</td>\n",
       "      <td>90000.0</td>\n",
       "      <td>110000.0</td>\n",
       "      <td>NaN</td>\n",
       "      <td>100000.0</td>\n",
       "      <td>100000.0</td>\n",
       "      <td>['word', 'powerpoint', 'excel', 'outlook']</td>\n",
       "    </tr>\n",
       "  </tbody>\n",
       "</table>\n",
       "<p>5 rows × 25 columns</p>\n",
       "</div>"
      ],
      "text/plain": [
       "                                              title  \\\n",
       "0                                      Data Analyst   \n",
       "1                                      Data Analyst   \n",
       "2                         Aeronautical Data Analyst   \n",
       "3  Data Analyst - Consumer Goods - Contract to Hire   \n",
       "4               Data Analyst | Workforce Management   \n",
       "\n",
       "                 company_name            location           via  \\\n",
       "0                        Meta           Anywhere   via LinkedIn   \n",
       "1                         ATC    United States     via LinkedIn   \n",
       "2  Garmin International, Inc.       Olathe, KS       via Indeed   \n",
       "3                      Upwork           Anywhere     via Upwork   \n",
       "4                Krispy Kreme    United States     via LinkedIn   \n",
       "\n",
       "                                         description  \\\n",
       "0  In the intersection of compliance and analytic...   \n",
       "1  Job Title: Entry Level Business Analyst / Prod...   \n",
       "2  Overview:\\n\\nWe are seeking a full-time...\\nAe...   \n",
       "3  Enthusiastic Data Analyst for processing sales...   \n",
       "4  Overview of Position\\n\\nThis position will be ...   \n",
       "\n",
       "                                          extensions  \\\n",
       "0  ['15 hours ago', '101K–143K a year', 'Work fro...   \n",
       "1  ['12 hours ago', 'Full-time', 'Health insurance']   \n",
       "2                      ['18 hours ago', 'Full-time']   \n",
       "3  ['12 hours ago', '15–25 an hour', 'Work from h...   \n",
       "4   ['7 hours ago', '90K–110K a year', 'Contractor']   \n",
       "\n",
       "                                              job_id  \\\n",
       "0  eyJqb2JfdGl0bGUiOiJEYXRhIEFuYWx5c3QiLCJodGlkb2...   \n",
       "1  eyJqb2JfdGl0bGUiOiJEYXRhIEFuYWx5c3QiLCJodGlkb2...   \n",
       "2  eyJqb2JfdGl0bGUiOiJBZXJvbmF1dGljYWwgRGF0YSBBbm...   \n",
       "3  eyJqb2JfdGl0bGUiOiJEYXRhIEFuYWx5c3QgLSBDb25zdW...   \n",
       "4  eyJqb2JfdGl0bGUiOiJEYXRhIEFuYWx5c3QgfCBXb3JrZm...   \n",
       "\n",
       "                                           thumbnail     posted_at  \\\n",
       "0  https://encrypted-tbn0.gstatic.com/images?q=tb...  15 hours ago   \n",
       "1  https://encrypted-tbn0.gstatic.com/images?q=tb...  12 hours ago   \n",
       "2                                                NaN  18 hours ago   \n",
       "3                                                NaN  12 hours ago   \n",
       "4  https://encrypted-tbn0.gstatic.com/images?q=tb...   7 hours ago   \n",
       "\n",
       "  schedule_type  ... commute_time salary_pay salary_rate salary_avg  \\\n",
       "0     Full-time  ...          NaN  101K–143K      a year   122000.0   \n",
       "1     Full-time  ...          NaN        NaN         NaN        NaN   \n",
       "2     Full-time  ...          NaN        NaN         NaN        NaN   \n",
       "3    Contractor  ...          NaN      15–25     an hour       20.0   \n",
       "4    Contractor  ...          NaN   90K–110K      a year   100000.0   \n",
       "\n",
       "  salary_min  salary_max salary_hourly salary_yearly  salary_standardized  \\\n",
       "0   101000.0    143000.0           NaN      122000.0             122000.0   \n",
       "1        NaN         NaN           NaN           NaN                  NaN   \n",
       "2        NaN         NaN           NaN           NaN                  NaN   \n",
       "3       15.0        25.0          20.0           NaN              41600.0   \n",
       "4    90000.0    110000.0           NaN      100000.0             100000.0   \n",
       "\n",
       "                           description_tokens  \n",
       "0           ['tableau', 'python', 'sql', 'r']  \n",
       "1                                          []  \n",
       "2                                     ['sql']  \n",
       "3         ['power_bi', 'excel', 'powerpoint']  \n",
       "4  ['word', 'powerpoint', 'excel', 'outlook']  \n",
       "\n",
       "[5 rows x 25 columns]"
      ]
     },
     "execution_count": 3,
     "metadata": {},
     "output_type": "execute_result"
    }
   ],
   "source": [
    "jobs_all.head()"
   ]
  },
  {
   "cell_type": "markdown",
   "metadata": {
    "papermill": {
     "duration": 0.004576,
     "end_time": "2022-11-20T23:10:19.072224",
     "exception": false,
     "start_time": "2022-11-20T23:10:19.067648",
     "status": "completed"
    },
    "tags": []
   },
   "source": [
    "## Data Integrity Check"
   ]
  },
  {
   "cell_type": "code",
   "execution_count": 4,
   "metadata": {
    "execution": {
     "iopub.execute_input": "2022-11-20T23:10:19.082536Z",
     "iopub.status.busy": "2022-11-20T23:10:19.082166Z",
     "iopub.status.idle": "2022-11-20T23:10:19.107084Z",
     "shell.execute_reply": "2022-11-20T23:10:19.105067Z"
    },
    "papermill": {
     "duration": 0.033,
     "end_time": "2022-11-20T23:10:19.109449",
     "exception": false,
     "start_time": "2022-11-20T23:10:19.076449",
     "status": "completed"
    },
    "tags": []
   },
   "outputs": [
    {
     "name": "stdout",
     "output_type": "stream",
     "text": [
      "Big Query Statistics:\n",
      "---------------------\n",
      "🚣‍♀️ Rows of data: 48453\n",
      "👯‍♀️ Number jobs repeated: 1216\n",
      "❌ Missing data for following dates:\n",
      "2022-12-28 00:00:00\n",
      "2023-05-22 00:00:00\n",
      "2023-05-23 00:00:00\n",
      "2024-05-16 00:00:00\n",
      "2024-05-17 00:00:00\n",
      "2024-05-18 00:00:00\n",
      "2024-05-19 00:00:00\n",
      "2024-05-20 00:00:00\n",
      "2024-05-21 00:00:00\n",
      "2024-05-22 00:00:00\n",
      "🧑‍💻 Average number of jobs per day: 85\n",
      "📆 Collecting data for 567 days now...\n"
     ]
    }
   ],
   "source": [
    "print(\"Big Query Statistics:\")\n",
    "print(\"---------------------\")\n",
    "print(f\"🚣‍♀️ Rows of data: {len(jobs_all)}\")\n",
    "\n",
    "repeat_jobs = jobs_all.job_id.value_counts()\n",
    "try:\n",
    "    repeat_jobs = repeat_jobs[repeat_jobs>1].index[0]\n",
    "    repeat_jobs = len(repeat_jobs)\n",
    "except IndexError:\n",
    "    repeat_jobs = \"None\"\n",
    "print(f\"👯‍♀️ Number jobs repeated: {repeat_jobs}\")\n",
    "\n",
    "first_date = jobs_all.date_time.dt.date.min()\n",
    "today_date = datetime.date.today() #+ datetime.timedelta(days=2) # test function works\n",
    "date_count = pd.DataFrame(jobs_all.date_time.dt.date.value_counts())\n",
    "missing_dates = list(pd.date_range(start=first_date, end=today_date).difference(date_count.index))\n",
    "if len(missing_dates) > 0:\n",
    "    print(\"❌ Missing data for following dates:\")\n",
    "    for date in missing_dates:\n",
    "        print(date)\n",
    "else:\n",
    "    print(f\"✅ No missing dates of data since inception of: {first_date}\")\n",
    "\n",
    "delta_days = (today_date - (first_date - datetime.timedelta(days=2))).days # first day was actually day prior but UTC\n",
    "jobs_day = round(len(jobs_all)/delta_days)\n",
    "print(f\"🧑‍💻 Average number of jobs per day: {jobs_day}\")\n",
    "print(f\"📆 Collecting data for {delta_days} days now...\")"
   ]
  },
  {
   "cell_type": "markdown",
   "metadata": {
    "papermill": {
     "duration": 0.004294,
     "end_time": "2022-11-20T23:10:19.118463",
     "exception": false,
     "start_time": "2022-11-20T23:10:19.114169",
     "status": "completed"
    },
    "tags": []
   },
   "source": [
    "## Exploratory Data Analysis"
   ]
  },
  {
   "cell_type": "code",
   "execution_count": 5,
   "metadata": {
    "execution": {
     "iopub.execute_input": "2022-11-20T23:10:19.131706Z",
     "iopub.status.busy": "2022-11-20T23:10:19.131241Z",
     "iopub.status.idle": "2022-11-20T23:10:19.953378Z",
     "shell.execute_reply": "2022-11-20T23:10:19.951388Z"
    },
    "papermill": {
     "duration": 0.830775,
     "end_time": "2022-11-20T23:10:19.955564",
     "exception": false,
     "start_time": "2022-11-20T23:10:19.124789",
     "status": "completed"
    },
    "tags": []
   },
   "outputs": [
    {
     "data": {
      "image/png": "[encoded data removed]",
      "text/plain": [
       "<Figure size 288x144 with 1 Axes>"
      ]
     },
     "metadata": {
      "needs_background": "light"
     },
     "output_type": "display_data"
    },
    {
     "data": {
      "image/png": "[encoded data removed]",
      "text/plain": [
       "<Figure size 288x144 with 1 Axes>"
      ]
     },
     "metadata": {
      "needs_background": "light"
     },
     "output_type": "display_data"
    },
    {
     "data": {
      "image/png": "[encoded data removed]",
      "text/plain": [
       "<Figure size 288x144 with 1 Axes>"
      ]
     },
     "metadata": {
      "needs_background": "light"
     },
     "output_type": "display_data"
    },
    {
     "data": {
      "image/png": "[encoded data removed]",
      "text/plain": [
       "<Figure size 288x144 with 1 Axes>"
      ]
     },
     "metadata": {
      "needs_background": "light"
     },
     "output_type": "display_data"
    },
    {
     "data": {
      "image/png": "[encoded data removed]",
      "text/plain": [
       "<Figure size 288x144 with 1 Axes>"
      ]
     },
     "metadata": {
      "needs_background": "light"
     },
     "output_type": "display_data"
    },
    {
     "data": {
      "image/png": "[encoded data removed]",
      "text/plain": [
       "<Figure size 288x144 with 1 Axes>"
      ]
     },
     "metadata": {
      "needs_background": "light"
     },
     "output_type": "display_data"
    }
   ],
   "source": [
    "def eda_plot(column, topn=10):\n",
    "    plt.figure(figsize=(4, 2))\n",
    "    jobs_all[column].value_counts().nlargest(topn).plot(kind='bar')\n",
    "    plt.title(f\"'{column}' column value counts\")\n",
    "    plt.ylabel(\"Counts\")\n",
    "    plt.xticks(rotation = 45, ha='right')\n",
    "    plt.show()\n",
    "\n",
    "columns = ['title', 'company_name', 'location', 'via', 'schedule_type', 'work_from_home']\n",
    "\n",
    "for column in columns:\n",
    "    eda_plot(column)\n"
   ]
  },
  {
   "cell_type": "markdown",
   "metadata": {
    "papermill": {
     "duration": 0.008309,
     "end_time": "2022-11-20T23:10:19.973465",
     "exception": false,
     "start_time": "2022-11-20T23:10:19.965156",
     "status": "completed"
    },
    "tags": []
   },
   "source": [
    "## Data Cleaning"
   ]
  },
  {
   "cell_type": "markdown",
   "metadata": {
    "papermill": {
     "duration": 0.009331,
     "end_time": "2022-11-20T23:10:19.991384",
     "exception": false,
     "start_time": "2022-11-20T23:10:19.982053",
     "status": "completed"
    },
    "tags": []
   },
   "source": [
    "#### Salary Cleaning - Find min, max, avg, hourly, & yearly"
   ]
  },
  {
   "cell_type": "code",
   "execution_count": 6,
   "metadata": {
    "execution": {
     "iopub.execute_input": "2022-11-20T23:10:20.008294Z",
     "iopub.status.busy": "2022-11-20T23:10:20.007682Z",
     "iopub.status.idle": "2022-11-20T23:10:20.065376Z",
     "shell.execute_reply": "2022-11-20T23:10:20.064048Z"
    },
    "papermill": {
     "duration": 0.067756,
     "end_time": "2022-11-20T23:10:20.067572",
     "exception": false,
     "start_time": "2022-11-20T23:10:19.999816",
     "status": "completed"
    },
    "tags": []
   },
   "outputs": [
    {
     "data": {
      "text/html": [
       "<div>\n",
       "<style scoped>\n",
       "    .dataframe tbody tr th:only-of-type {\n",
       "        vertical-align: middle;\n",
       "    }\n",
       "\n",
       "    .dataframe tbody tr th {\n",
       "        vertical-align: top;\n",
       "    }\n",
       "\n",
       "    .dataframe thead th {\n",
       "        text-align: right;\n",
       "    }\n",
       "</style>\n",
       "<table border=\"1\" class=\"dataframe\">\n",
       "  <thead>\n",
       "    <tr style=\"text-align: right;\">\n",
       "      <th></th>\n",
       "      <th>company_name</th>\n",
       "      <th>salary</th>\n",
       "      <th>salary_pay</th>\n",
       "      <th>salary_rate</th>\n",
       "      <th>salary_avg</th>\n",
       "      <th>salary_min</th>\n",
       "      <th>salary_max</th>\n",
       "      <th>salary_standardized</th>\n",
       "      <th>salary_hourly</th>\n",
       "      <th>salary_yearly</th>\n",
       "    </tr>\n",
       "  </thead>\n",
       "  <tbody>\n",
       "    <tr>\n",
       "      <td>0</td>\n",
       "      <td>Meta</td>\n",
       "      <td>101K–143K a year</td>\n",
       "      <td>101K–143K</td>\n",
       "      <td>a year</td>\n",
       "      <td>122000</td>\n",
       "      <td>101000</td>\n",
       "      <td>143000</td>\n",
       "      <td>122000.0</td>\n",
       "      <td>NaN</td>\n",
       "      <td>122000.0</td>\n",
       "    </tr>\n",
       "    <tr>\n",
       "      <td>3</td>\n",
       "      <td>Upwork</td>\n",
       "      <td>15–25 an hour</td>\n",
       "      <td>15–25</td>\n",
       "      <td>an hour</td>\n",
       "      <td>20</td>\n",
       "      <td>15</td>\n",
       "      <td>25</td>\n",
       "      <td>41600.0</td>\n",
       "      <td>20.000</td>\n",
       "      <td>NaN</td>\n",
       "    </tr>\n",
       "    <tr>\n",
       "      <td>4</td>\n",
       "      <td>Krispy Kreme</td>\n",
       "      <td>90K–110K a year</td>\n",
       "      <td>90K–110K</td>\n",
       "      <td>a year</td>\n",
       "      <td>100000</td>\n",
       "      <td>90000</td>\n",
       "      <td>110000</td>\n",
       "      <td>100000.0</td>\n",
       "      <td>NaN</td>\n",
       "      <td>100000.0</td>\n",
       "    </tr>\n",
       "    <tr>\n",
       "      <td>10</td>\n",
       "      <td>Aquent</td>\n",
       "      <td>54.00–60.52 an hour</td>\n",
       "      <td>54.00–60.52</td>\n",
       "      <td>an hour</td>\n",
       "      <td>57.26</td>\n",
       "      <td>54.00</td>\n",
       "      <td>60.52</td>\n",
       "      <td>119100.8</td>\n",
       "      <td>57.260</td>\n",
       "      <td>NaN</td>\n",
       "    </tr>\n",
       "    <tr>\n",
       "      <td>14</td>\n",
       "      <td>CIBA Insurance Services</td>\n",
       "      <td>90K–130K a year</td>\n",
       "      <td>90K–130K</td>\n",
       "      <td>a year</td>\n",
       "      <td>110000</td>\n",
       "      <td>90000</td>\n",
       "      <td>130000</td>\n",
       "      <td>110000.0</td>\n",
       "      <td>NaN</td>\n",
       "      <td>110000.0</td>\n",
       "    </tr>\n",
       "    <tr>\n",
       "      <td>21</td>\n",
       "      <td>Saint Louis County Clerks Office</td>\n",
       "      <td>18.33–28.20 an hour</td>\n",
       "      <td>18.33–28.20</td>\n",
       "      <td>an hour</td>\n",
       "      <td>23.265</td>\n",
       "      <td>18.33</td>\n",
       "      <td>28.20</td>\n",
       "      <td>48391.2</td>\n",
       "      <td>23.265</td>\n",
       "      <td>NaN</td>\n",
       "    </tr>\n",
       "    <tr>\n",
       "      <td>26</td>\n",
       "      <td>Upwork</td>\n",
       "      <td>50–80 an hour</td>\n",
       "      <td>50–80</td>\n",
       "      <td>an hour</td>\n",
       "      <td>65</td>\n",
       "      <td>50</td>\n",
       "      <td>80</td>\n",
       "      <td>135200.0</td>\n",
       "      <td>65.000</td>\n",
       "      <td>NaN</td>\n",
       "    </tr>\n",
       "    <tr>\n",
       "      <td>39</td>\n",
       "      <td>Upwork</td>\n",
       "      <td>8–30 an hour</td>\n",
       "      <td>8–30</td>\n",
       "      <td>an hour</td>\n",
       "      <td>19</td>\n",
       "      <td>8</td>\n",
       "      <td>30</td>\n",
       "      <td>39520.0</td>\n",
       "      <td>19.000</td>\n",
       "      <td>NaN</td>\n",
       "    </tr>\n",
       "    <tr>\n",
       "      <td>49</td>\n",
       "      <td>Sompo International</td>\n",
       "      <td>95K–150K a year</td>\n",
       "      <td>95K–150K</td>\n",
       "      <td>a year</td>\n",
       "      <td>122500</td>\n",
       "      <td>95000</td>\n",
       "      <td>150000</td>\n",
       "      <td>122500.0</td>\n",
       "      <td>NaN</td>\n",
       "      <td>122500.0</td>\n",
       "    </tr>\n",
       "    <tr>\n",
       "      <td>65</td>\n",
       "      <td>LeadStack Inc.</td>\n",
       "      <td>60–65 an hour</td>\n",
       "      <td>60–65</td>\n",
       "      <td>an hour</td>\n",
       "      <td>62.5</td>\n",
       "      <td>60</td>\n",
       "      <td>65</td>\n",
       "      <td>130000.0</td>\n",
       "      <td>62.500</td>\n",
       "      <td>NaN</td>\n",
       "    </tr>\n",
       "  </tbody>\n",
       "</table>\n",
       "</div>"
      ],
      "text/plain": [
       "                        company_name               salary   salary_pay  \\\n",
       "0                               Meta     101K–143K a year    101K–143K   \n",
       "3                             Upwork        15–25 an hour        15–25   \n",
       "4                       Krispy Kreme      90K–110K a year     90K–110K   \n",
       "10                            Aquent  54.00–60.52 an hour  54.00–60.52   \n",
       "14           CIBA Insurance Services      90K–130K a year     90K–130K   \n",
       "21  Saint Louis County Clerks Office  18.33–28.20 an hour  18.33–28.20   \n",
       "26                            Upwork        50–80 an hour        50–80   \n",
       "39                            Upwork         8–30 an hour         8–30   \n",
       "49               Sompo International      95K–150K a year     95K–150K   \n",
       "65                    LeadStack Inc.        60–65 an hour        60–65   \n",
       "\n",
       "   salary_rate salary_avg salary_min salary_max  salary_standardized  \\\n",
       "0       a year     122000     101000     143000             122000.0   \n",
       "3      an hour         20         15         25              41600.0   \n",
       "4       a year     100000      90000     110000             100000.0   \n",
       "10     an hour      57.26      54.00      60.52             119100.8   \n",
       "14      a year     110000      90000     130000             110000.0   \n",
       "21     an hour     23.265      18.33      28.20              48391.2   \n",
       "26     an hour         65         50         80             135200.0   \n",
       "39     an hour         19          8         30              39520.0   \n",
       "49      a year     122500      95000     150000             122500.0   \n",
       "65     an hour       62.5         60         65             130000.0   \n",
       "\n",
       "    salary_hourly  salary_yearly  \n",
       "0             NaN       122000.0  \n",
       "3          20.000            NaN  \n",
       "4             NaN       100000.0  \n",
       "10         57.260            NaN  \n",
       "14            NaN       110000.0  \n",
       "21         23.265            NaN  \n",
       "26         65.000            NaN  \n",
       "39         19.000            NaN  \n",
       "49            NaN       122500.0  \n",
       "65         62.500            NaN  "
      ]
     },
     "execution_count": 6,
     "metadata": {},
     "output_type": "execute_result"
    }
   ],
   "source": [
    "# Separate 'salary' column into that for min max avg and rate (e.g., hourly)\n",
    "jobs_all[['salary_pay', 'salary_rate']] = jobs_all.salary.str.split(' ', 1, expand=True)\n",
    "jobs_all.salary_pay = jobs_all.salary_pay.str.replace(',', '').str.replace('$', '').str.replace(' ', '')\n",
    "jobs_all['salary_avg'] = np.where(jobs_all.salary_pay.str.contains(\"–\"), np.NaN, jobs_all.salary_pay)  # The character U+2013 \"–\" could be confused with the character U+002d \"-\", which is more common in source code. Adjust settings\n",
    "jobs_all['salary_min'] = np.where(jobs_all.salary_pay.str.contains(\"–\"), jobs_all.salary_pay, np.NaN)\n",
    "jobs_all[['salary_min', 'salary_max']] = jobs_all.salary_min.str.split(\"–\", 1, expand=True)\n",
    "for column in ['salary_avg', 'salary_min', 'salary_max']:\n",
    "    jobs_all[column] = np.where(jobs_all[column].str.contains(\"K\"), jobs_all[column].str.replace(\"K\", \"\").astype(float) * 1000 , jobs_all[column] )\n",
    "jobs_all['salary_avg'] = np.where(~jobs_all.salary_min.isnull(), (jobs_all.salary_min.astype(float) + jobs_all.salary_max.astype(float))/2 , jobs_all.salary_avg)\n",
    "jobs_all['salary_hourly'] = np.where(jobs_all.salary_rate == 'an hour', jobs_all.salary_avg.astype(float), np.NaN)\n",
    "jobs_all['salary_yearly'] = np.where(jobs_all.salary_rate == 'a year', jobs_all.salary_avg.astype(float), np.NaN)\n",
    "\n",
    "# Standardize salary to all be annual\n",
    "jobs_all['salary_standardized'] = np.NaN\n",
    "salary_rate = {'a year': 1, 'an hour': 2080, 'a month': 12}\n",
    "for key, index in salary_rate.items():\n",
    "    jobs_all.salary_standardized = np.where(jobs_all.salary_rate == key, jobs_all.salary_avg.astype(float) * index, jobs_all.salary_standardized)\n",
    "\n",
    "# Used to check results as built above\n",
    "salary_df = jobs_all[~jobs_all.salary.isnull()]\n",
    "salary_df = salary_df[['company_name', 'salary', 'salary_pay', 'salary_rate', 'salary_avg', 'salary_min', 'salary_max', 'salary_standardized', 'salary_hourly', 'salary_yearly']] #, 'salary_min', 'salary_max']\n",
    "pd.set_option('display.max_rows', salary_df.shape[0]+1)\n",
    "salary_df.head(10)"
   ]
  },
  {
   "cell_type": "code",
   "execution_count": 7,
   "metadata": {
    "execution": {
     "iopub.execute_input": "2022-11-20T23:10:20.083715Z",
     "iopub.status.busy": "2022-11-20T23:10:20.083320Z",
     "iopub.status.idle": "2022-11-20T23:10:20.543920Z",
     "shell.execute_reply": "2022-11-20T23:10:20.542392Z"
    },
    "papermill": {
     "duration": 0.471587,
     "end_time": "2022-11-20T23:10:20.546197",
     "exception": false,
     "start_time": "2022-11-20T23:10:20.074610",
     "status": "completed"
    },
    "tags": []
   },
   "outputs": [
    {
     "data": {
      "text/plain": [
       "Text(0.5, 0, '($USD/hr) Hourly Pay')"
      ]
     },
     "execution_count": 7,
     "metadata": {},
     "output_type": "execute_result"
    },
    {
     "data": {
      "image/png": "[encoded data removed]",
      "text/plain": [
       "<Figure size 432x792 with 3 Axes>"
      ]
     },
     "metadata": {
      "needs_background": "light"
     },
     "output_type": "display_data"
    }
   ],
   "source": [
    "# plt.figure(figsize=(10, 2))\n",
    "fig, axs = plt.subplots(3)\n",
    "fig.set_figheight(11)\n",
    "axs[0].hist(jobs_all.salary_standardized, bins = 20, color = 'plum')\n",
    "axs[0].set_title(\"Average Data Analyst Pay\")\n",
    "axs[0].set_xlabel(\"($USD/yr) All Salary Standardized to Yearly\")\n",
    "axs[1].hist(jobs_all.salary_yearly, bins = 20, color = 'skyblue')\n",
    "axs[1].set_xlabel(\"($USD/yr) Annual Salary\")\n",
    "axs[2].hist(jobs_all.salary_hourly, bins = 20, color = 'salmon')\n",
    "axs[2].set_xlabel(\"($USD/hr) Hourly Pay\")"
   ]
  },
  {
   "cell_type": "markdown",
   "metadata": {
    "papermill": {
     "duration": 0.00671,
     "end_time": "2022-11-20T23:10:20.559919",
     "exception": false,
     "start_time": "2022-11-20T23:10:20.553209",
     "status": "completed"
    },
    "tags": []
   },
   "source": [
    "#### Description Cleaning - Tokenize Languages & Tools"
   ]
  },
  {
   "cell_type": "code",
   "execution_count": 8,
   "metadata": {
    "execution": {
     "iopub.execute_input": "2022-11-20T23:10:20.575496Z",
     "iopub.status.busy": "2022-11-20T23:10:20.575128Z",
     "iopub.status.idle": "2022-11-20T23:10:29.187076Z",
     "shell.execute_reply": "2022-11-20T23:10:29.185687Z"
    },
    "papermill": {
     "duration": 8.622608,
     "end_time": "2022-11-20T23:10:29.189608",
     "exception": false,
     "start_time": "2022-11-20T23:10:20.567000",
     "status": "completed"
    },
    "tags": []
   },
   "outputs": [],
   "source": [
    "# Picked out keywords based on all keywords (only looked words with 100+ occurrences)\n",
    "keywords_programming = [\n",
    "'sql', 'python', 'r', 'c', 'c#', 'javascript', 'js',  'java', 'scala', 'sas', 'matlab', \n",
    "'c++', 'c/c++', 'perl', 'go', 'typescript', 'bash', 'html', 'css', 'php', 'powershell', 'rust', \n",
    "'kotlin', 'ruby',  'dart', 'assembly', 'swift', 'vba', 'lua', 'groovy', 'delphi', 'objective-c', \n",
    "'haskell', 'elixir', 'julia', 'clojure', 'solidity', 'lisp', 'f#', 'fortran', 'erlang', 'apl', \n",
    "'cobol', 'ocaml', 'crystal', 'javascript/typescript', 'golang', 'nosql', 'mongodb', 't-sql', 'no-sql',\n",
    "'visual_basic', 'pascal', 'mongo', 'pl/sql',  'sass', 'vb.net', 'mssql', \n",
    "]\n",
    "\n",
    "keywords_libraries = [\n",
    "'scikit-learn', 'jupyter', 'theano', 'openCV', 'spark', 'nltk', 'mlpack', 'chainer', 'fann', 'shogun', \n",
    "'dlib', 'mxnet', 'node.js', 'vue', 'vue.js', 'keras', 'ember.js', 'jse/jee',\n",
    "]\n",
    "\n",
    "keywords_analyst_tools = [\n",
    "'excel', 'tableau',  'word', 'powerpoint', 'looker', 'powerbi', 'outlook', 'azure', 'jira', 'twilio',  'snowflake', \n",
    "'shell', 'linux', 'sas', 'sharepoint', 'mysql', 'visio', 'git', 'mssql', 'powerpoints', 'postgresql', 'spreadsheets',\n",
    "'seaborn', 'pandas', 'gdpr', 'spreadsheet', 'alteryx', 'github', 'postgres', 'ssis', 'numpy', 'power_bi', 'spss', 'ssrs', \n",
    "'microstrategy',  'cognos', 'dax', 'matplotlib', 'dplyr', 'tidyr', 'ggplot2', 'plotly', 'esquisse', 'rshiny', 'mlr',\n",
    "'docker', 'linux', 'jira',  'hadoop', 'airflow', 'redis', 'graphql', 'sap', 'tensorflow', 'node', 'asp.net', 'unix',\n",
    "'jquery', 'pyspark', 'pytorch', 'gitlab', 'selenium', 'splunk', 'bitbucket', 'qlik', 'terminal', 'atlassian', 'unix/linux',\n",
    "'linux/unix', 'ubuntu', 'nuix', 'datarobot',\n",
    "]\n",
    "\n",
    "keywords_cloud_tools = [\n",
    "'aws', 'azure', 'gcp', 'snowflake', 'redshift', 'bigquery', 'aurora',\n",
    "]\n",
    "\n",
    "# Not using\n",
    "keywords_general_tools = [\n",
    "'microsoft', 'slack', 'apache', 'ibm', 'html5', 'datadog', 'bloomberg',  'ajax', 'persicope', 'oracle', \n",
    "]\n",
    "\n",
    "# Not using\n",
    "keywords_general = [\n",
    "'coding', 'server', 'database', 'cloud', 'warehousing', 'scrum', 'devops', 'programming', 'saas', 'ci/cd', 'cicd', \n",
    "'ml', 'data_lake', 'frontend',' front-end', 'back-end', 'backend', 'json', 'xml', 'ios', 'kanban', 'nlp',\n",
    "'iot', 'codebase', 'agile/scrum', 'agile', 'ai/ml', 'ai', 'paas', 'machine_learning', 'macros', 'iaas',\n",
    "'fullstack', 'dataops', 'scrum/agile', 'ssas', 'mlops', 'debug', 'etl', 'a/b', 'slack', 'erp', 'oop', \n",
    "'object-oriented', 'etl/elt', 'elt', 'dashboarding', 'big-data', 'twilio', 'ui/ux', 'ux/ui', 'vlookup', \n",
    "'crossover',  'data_lake', 'data_lakes', 'bi', \n",
    "]\n",
    "\n",
    "keywords = keywords_programming + keywords_libraries + keywords_analyst_tools + keywords_cloud_tools \n",
    "\n",
    "jobs_all = jobs_all[jobs_all.description.notnull()] # filter out null values\n",
    "jobs_all = jobs_all.reset_index() # throwing index issues if don't reset index\n",
    "# jobs_all = jobs_all.head(10) \n",
    "\n",
    "jobs_all['description_tokens'] = \"\"\n",
    "for index, row in jobs_all.iterrows():\n",
    "    # lowercase words\n",
    "    detail = row.description.lower()\n",
    "    # tokenize words\n",
    "    detail = word_tokenize(detail)\n",
    "    # handle multi-word tokenization (e.g., 'Power BI')\n",
    "    multi_tokens = [('power', 'bi'), ('data', 'lake'), ('data', 'lakes'), ('machine', 'learning'), ('objective', 'c'),\n",
    "                    ('visual', 'basic')]\n",
    "    tokenizer = MWETokenizer(multi_tokens)\n",
    "    detail = tokenizer.tokenize(detail)\n",
    "    # remove duplicates\n",
    "    detail = list(set(detail))\n",
    "    # filter for keywords only\n",
    "    detail = [word for word in detail if word in keywords] \n",
    "    # replace duplicate keywords\n",
    "    replace_tokens = {'powerbi' : 'power_bi', 'spreadsheets': 'spreadsheet'}\n",
    "    for key, value in replace_tokens.items():\n",
    "        detail = [d.replace(key, value) for d in detail]\n",
    "    # add to details list # row.description_tokens = detail\n",
    "    jobs_all.at[index, 'description_tokens'] = detail"
   ]
  },
  {
   "cell_type": "markdown",
   "metadata": {
    "papermill": {
     "duration": 0.006667,
     "end_time": "2022-11-20T23:10:29.203491",
     "exception": false,
     "start_time": "2022-11-20T23:10:29.196824",
     "status": "completed"
    },
    "tags": []
   },
   "source": [
    "## More EDA of Top Skills"
   ]
  },
  {
   "cell_type": "code",
   "execution_count": 9,
   "metadata": {
    "execution": {
     "iopub.execute_input": "2022-11-20T23:10:29.219705Z",
     "iopub.status.busy": "2022-11-20T23:10:29.218608Z",
     "iopub.status.idle": "2022-11-20T23:10:29.226712Z",
     "shell.execute_reply": "2022-11-20T23:10:29.225559Z"
    },
    "papermill": {
     "duration": 0.018107,
     "end_time": "2022-11-20T23:10:29.228598",
     "exception": false,
     "start_time": "2022-11-20T23:10:29.210491",
     "status": "completed"
    },
    "tags": []
   },
   "outputs": [],
   "source": [
    "def filtered_keywords(jobs_filtered, keywords, title=\"Keyword Analysis\", head=10):\n",
    "    # get keywords in a column\n",
    "    count_keywords = pd.DataFrame(jobs_filtered.description_tokens.sum()).value_counts().rename_axis('keywords').reset_index(name='counts')\n",
    "\n",
    "    # get frequency of occurence of word (as word only appears once per line)\n",
    "    length = len(jobs_filtered) # number of job postings\n",
    "    count_keywords['percentage'] = 100 * count_keywords.counts / length\n",
    "\n",
    "    # plot the results\n",
    "    count_keywords = count_keywords[count_keywords.keywords.isin(keywords)]\n",
    "    count_keywords = count_keywords.head(head)\n",
    "    g = plt.bar(x=\"keywords\", height=\"percentage\", data=count_keywords , color=np.random.rand(len(count_keywords.keywords), 3))\n",
    "    plt.xlabel(\"\")\n",
    "    plt.ylabel(\"Likelyhood to be in job posting (%)\")\n",
    "    plt.xticks(rotation = 45, ha='right')\n",
    "    plt.title(title) \n",
    "    plt.show(g)\n",
    "    print(count_keywords)"
   ]
  },
  {
   "cell_type": "code",
   "execution_count": 10,
   "metadata": {},
   "outputs": [],
   "source": [
    "import pandas as pd\n",
    "import matplotlib.pyplot as plt\n",
    "import numpy as np\n",
    "\n",
    "def filtered_keywords(jobs_filtered, keywords, title=\"Keyword Analysis\", head=10):\n",
    "    # Flatten the list of tokens from all rows and create a DataFrame\n",
    "    all_tokens = [token for sublist in jobs_filtered['description_tokens'] for token in sublist]\n",
    "    count_keywords = pd.Series(all_tokens).value_counts().rename_axis('keywords').reset_index(name='counts')\n",
    "    \n",
    "    # Calculate the percentage of each keyword occurrence\n",
    "    length = len(jobs_filtered)  # number of job postings\n",
    "    count_keywords['percentage'] = 100 * count_keywords['counts'] / length\n",
    "    \n",
    "    # Filter the counts based on the provided keywords\n",
    "    count_keywords = count_keywords[count_keywords['keywords'].isin(keywords)]\n",
    "    \n",
    "    # Sort and get the top 'head' keywords\n",
    "    count_keywords = count_keywords.head(head)\n",
    "    \n",
    "    # Plot the results\n",
    "    plt.figure(figsize=(10, 6))\n",
    "    plt.bar(count_keywords['keywords'], count_keywords['percentage'], color=np.random.rand(len(count_keywords['keywords']), 3))\n",
    "    plt.xlabel(\"\")\n",
    "    plt.ylabel(\"Likelihood to be in job posting (%)\")\n",
    "    plt.xticks(rotation=45, ha='right')\n",
    "    plt.title(title)\n",
    "    plt.show()\n",
    "    \n",
    "    print(count_keywords)\n",
    "    return count_keywords\n",
    "\n"
   ]
  },
  {
   "cell_type": "code",
   "execution_count": 11,
   "metadata": {},
   "outputs": [],
   "source": [
    "jobs_all = pd.DataFrame(jobs_all)"
   ]
  },
  {
   "cell_type": "code",
   "execution_count": 12,
   "metadata": {},
   "outputs": [
    {
     "data": {
      "image/png": "[encoded data removed]",
      "text/plain": [
       "<Figure size 720x432 with 1 Axes>"
      ]
     },
     "metadata": {
      "needs_background": "light"
     },
     "output_type": "display_data"
    },
    {
     "name": "stdout",
     "output_type": "stream",
     "text": [
      "   keywords  counts  percentage\n",
      "0       sql   24836   51.257920\n",
      "2    python   14682   30.301529\n",
      "5         r    9010   18.595340\n",
      "6       sas    4254    8.779642\n",
      "14       go    1868    3.855282\n",
      "17    scala    1711    3.531257\n",
      "20        c    1334    2.753183\n",
      "22     java    1297    2.676821\n",
      "25    nosql    1136    2.344540\n",
      "27      vba    1111    2.292944\n"
     ]
    }
   ],
   "source": [
    "\n",
    "\n",
    "top_keywords = filtered_keywords(jobs_all, keywords_programming, title=\"Top Programming Languages for Data Analysts\")\n"
   ]
  },
  {
   "cell_type": "code",
   "execution_count": 13,
   "metadata": {},
   "outputs": [
    {
     "data": {
      "image/png": "[encoded data removed]",
      "text/plain": [
       "<Figure size 720x432 with 1 Axes>"
      ]
     },
     "metadata": {
      "needs_background": "light"
     },
     "output_type": "display_data"
    },
    {
     "name": "stdout",
     "output_type": "stream",
     "text": [
      "     keywords  counts  percentage\n",
      "0         sql   24836   51.257920\n",
      "1       excel   15989   32.998989\n",
      "2      python   14682   30.301529\n",
      "3    power_bi   13758   28.394527\n",
      "4     tableau   13369   27.591687\n",
      "5           r    9010   18.595340\n",
      "6         sas    4254    8.779642\n",
      "7  powerpoint    3616    7.462902\n",
      "8        word    3502    7.227623\n",
      "9       azure    3141    6.482571\n"
     ]
    },
    {
     "data": {
      "text/html": [
       "<div>\n",
       "<style scoped>\n",
       "    .dataframe tbody tr th:only-of-type {\n",
       "        vertical-align: middle;\n",
       "    }\n",
       "\n",
       "    .dataframe tbody tr th {\n",
       "        vertical-align: top;\n",
       "    }\n",
       "\n",
       "    .dataframe thead th {\n",
       "        text-align: right;\n",
       "    }\n",
       "</style>\n",
       "<table border=\"1\" class=\"dataframe\">\n",
       "  <thead>\n",
       "    <tr style=\"text-align: right;\">\n",
       "      <th></th>\n",
       "      <th>keywords</th>\n",
       "      <th>counts</th>\n",
       "      <th>percentage</th>\n",
       "    </tr>\n",
       "  </thead>\n",
       "  <tbody>\n",
       "    <tr>\n",
       "      <td>0</td>\n",
       "      <td>sql</td>\n",
       "      <td>24836</td>\n",
       "      <td>51.257920</td>\n",
       "    </tr>\n",
       "    <tr>\n",
       "      <td>1</td>\n",
       "      <td>excel</td>\n",
       "      <td>15989</td>\n",
       "      <td>32.998989</td>\n",
       "    </tr>\n",
       "    <tr>\n",
       "      <td>2</td>\n",
       "      <td>python</td>\n",
       "      <td>14682</td>\n",
       "      <td>30.301529</td>\n",
       "    </tr>\n",
       "    <tr>\n",
       "      <td>3</td>\n",
       "      <td>power_bi</td>\n",
       "      <td>13758</td>\n",
       "      <td>28.394527</td>\n",
       "    </tr>\n",
       "    <tr>\n",
       "      <td>4</td>\n",
       "      <td>tableau</td>\n",
       "      <td>13369</td>\n",
       "      <td>27.591687</td>\n",
       "    </tr>\n",
       "    <tr>\n",
       "      <td>5</td>\n",
       "      <td>r</td>\n",
       "      <td>9010</td>\n",
       "      <td>18.595340</td>\n",
       "    </tr>\n",
       "    <tr>\n",
       "      <td>6</td>\n",
       "      <td>sas</td>\n",
       "      <td>4254</td>\n",
       "      <td>8.779642</td>\n",
       "    </tr>\n",
       "    <tr>\n",
       "      <td>7</td>\n",
       "      <td>powerpoint</td>\n",
       "      <td>3616</td>\n",
       "      <td>7.462902</td>\n",
       "    </tr>\n",
       "    <tr>\n",
       "      <td>8</td>\n",
       "      <td>word</td>\n",
       "      <td>3502</td>\n",
       "      <td>7.227623</td>\n",
       "    </tr>\n",
       "    <tr>\n",
       "      <td>9</td>\n",
       "      <td>azure</td>\n",
       "      <td>3141</td>\n",
       "      <td>6.482571</td>\n",
       "    </tr>\n",
       "  </tbody>\n",
       "</table>\n",
       "</div>"
      ],
      "text/plain": [
       "     keywords  counts  percentage\n",
       "0         sql   24836   51.257920\n",
       "1       excel   15989   32.998989\n",
       "2      python   14682   30.301529\n",
       "3    power_bi   13758   28.394527\n",
       "4     tableau   13369   27.591687\n",
       "5           r    9010   18.595340\n",
       "6         sas    4254    8.779642\n",
       "7  powerpoint    3616    7.462902\n",
       "8        word    3502    7.227623\n",
       "9       azure    3141    6.482571"
      ]
     },
     "execution_count": 13,
     "metadata": {},
     "output_type": "execute_result"
    }
   ],
   "source": [
    "filtered_keywords(jobs_all, keywords, title=\"Top Tools for Data Analysts\")"
   ]
  },
  {
   "cell_type": "code",
   "execution_count": null,
   "metadata": {},
   "outputs": [],
   "source": []
  }
 ],
 "metadata": {
  "kernelspec": {
   "display_name": "Python 3",
   "language": "python",
   "name": "python3"
  },
  "language_info": {
   "codemirror_mode": {
    "name": "ipython",
    "version": 3
   },
   "file_extension": ".py",
   "mimetype": "text/x-python",
   "name": "python",
   "nbconvert_exporter": "python",
   "pygments_lexer": "ipython3",
   "version": "3.7.4"
  },
  "papermill": {
   "default_parameters": {},
   "duration": 21.62355,
   "end_time": "2022-11-20T23:10:30.641089",
   "environment_variables": {},
   "exception": null,
   "input_path": "__notebook__.ipynb",
   "output_path": "__notebook__.ipynb",
   "parameters": {},
   "start_time": "2022-11-20T23:10:09.017539",
   "version": "2.3.4"
  }
 },
 "nbformat": 4,
 "nbformat_minor": 5
}
